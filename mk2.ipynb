{
 "cells": [
  {
   "cell_type": "code",
   "execution_count": 1,
   "metadata": {},
   "outputs": [],
   "source": [
    "import openai\n",
    "import os"
   ]
  },
  {
   "cell_type": "code",
   "execution_count": 3,
   "metadata": {},
   "outputs": [],
   "source": []
  },
  {
   "cell_type": "code",
   "execution_count": 11,
   "metadata": {},
   "outputs": [
    {
     "name": "stdout",
     "output_type": "stream",
     "text": [
      "Employment History\n",
      "\n",
      "Dates Employer Name Position Held\n",
      "\n",
      "Start Date | End Date Employer Name Position Held\n",
      "\n",
      "1/15/2009 | 6/30/2011 | Any Company Assistant baker\n",
      "\n",
      "7/1/2011 | Present Example Corp. Baker\n",
      "\n",
      "Education\n",
      "\n",
      "School Name | City and State | Degree | Graduation Year\n",
      "\n",
      "University of California, Los Angeles | Los Angeles, CA| B.A. | 2008\n",
      "\n",
      "Work Experience\n",
      "\n",
      "D\n"
     ]
    }
   ],
   "source": [
    "model = \"davinci\"\n",
    "text='''\n",
    "Employment Application\n",
    "\n",
    "Application Information\n",
    "Full Name: Jane Doe\n",
    "\n",
    "Phone Number: 555 - 0\\OO\n",
    "\n",
    "Home adéres: 12. Any Street, Any vown, OSA\n",
    "\n",
    "Mailing Address: same as above\n",
    "\n",
    "Previous Employine\n",
    "\n",
    "Start Date | End Date Employer Name Position Held Reason for leaving\n",
    "1/15/2009 | 6/30/2011 | Any Company Assistant baker relocated\n",
    "\n",
    "7h |geut |Bhols013| Example Corp.| Barer yerter oy.\n",
    "'''\n",
    "question = \"What is the \" + text\n",
    "response = openai.Completion.create(\n",
    "    engine=model,\n",
    "    prompt=question,\n",
    "    max_tokens=100,\n",
    "    n=1,\n",
    "    stop=None,\n",
    "    temperature=0.5\n",
    ")\n",
    "\n",
    "proofread_text = response.choices[0].text.strip()\n",
    "print(proofread_text)\n"
   ]
  },
  {
   "cell_type": "code",
   "execution_count": null,
   "metadata": {},
   "outputs": [],
   "source": []
  }
 ],
 "metadata": {
  "kernelspec": {
   "display_name": "Python 3",
   "language": "python",
   "name": "python3"
  },
  "language_info": {
   "codemirror_mode": {
    "name": "ipython",
    "version": 3
   },
   "file_extension": ".py",
   "mimetype": "text/x-python",
   "name": "python",
   "nbconvert_exporter": "python",
   "pygments_lexer": "ipython3",
   "version": "3.9.9"
  },
  "orig_nbformat": 4
 },
 "nbformat": 4,
 "nbformat_minor": 2
}
