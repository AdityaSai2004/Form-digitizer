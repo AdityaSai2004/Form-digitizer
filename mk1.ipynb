{
 "cells": [
  {
   "cell_type": "code",
   "execution_count": 1,
   "metadata": {},
   "outputs": [],
   "source": [
    "import pytesseract\n",
    "from PIL import Image"
   ]
  },
  {
   "cell_type": "code",
   "execution_count": 5,
   "metadata": {},
   "outputs": [],
   "source": [
    "# Set the path to the Tesseract executable (optional)\n",
    "pytesseract.pytesseract.tesseract_cmd = r\"C:\\Program Files\\Tesseract-OCR\\tesseract.exe\"\n",
    "\n",
    "# Open the image using PIL (Python Imaging Library)\n",
    "image = Image.open(\"ML-1955-2.jpg\")\n",
    "\n",
    "# Convert the image to grayscale (optional, but can improve accuracy)\n",
    "image = image.convert(\"L\")"
   ]
  },
  {
   "cell_type": "code",
   "execution_count": 6,
   "metadata": {},
   "outputs": [
    {
     "name": "stdout",
     "output_type": "stream",
     "text": [
      "Employment Application\n",
      "\n",
      "Application Information\n",
      "Full Name: Jane Doe\n",
      "\n",
      "Phone Number: 555 - 0\\OO\n",
      "\n",
      "Home adéres: 12. Any Street, Any vown, OSA\n",
      "\n",
      "Mailing Address: same as above\n",
      "\n",
      "Previous Employine\n",
      "\n",
      "         \n",
      "\n",
      "        \n",
      "\n",
      " \n",
      "\n",
      " \n",
      "\n",
      " \n",
      "\n",
      " \n",
      "\n",
      " \n",
      "\n",
      " \n",
      "\n",
      " \n",
      "\n",
      " \n",
      "\n",
      "Start Date | End Date Employer Name Position Held Reason for leaving\n",
      "1/15/2009 | 6/30/2011 | Any Company Assistant baker relocated\n",
      "\n",
      "7h |geut |Bhols013| Example Corp.| Barer yerter oy.\n",
      "\n",
      "| 2/15/9013] Yresenee Anstompeny [néad bare |NlAy Curent\n",
      "\n",
      " \n",
      "\n",
      " \n",
      "\f\n"
     ]
    }
   ],
   "source": [
    "# Perform OCR using Tesseract\n",
    "text = pytesseract.image_to_string(image)\n",
    "\n",
    "# Print the recognized text\n",
    "print(text)"
   ]
  },
  {
   "cell_type": "code",
   "execution_count": null,
   "metadata": {},
   "outputs": [],
   "source": []
  }
 ],
 "metadata": {
  "kernelspec": {
   "display_name": "Python 3",
   "language": "python",
   "name": "python3"
  },
  "language_info": {
   "codemirror_mode": {
    "name": "ipython",
    "version": 3
   },
   "file_extension": ".py",
   "mimetype": "text/x-python",
   "name": "python",
   "nbconvert_exporter": "python",
   "pygments_lexer": "ipython3",
   "version": "3.9.9"
  },
  "orig_nbformat": 4
 },
 "nbformat": 4,
 "nbformat_minor": 2
}
